{
  "nbformat": 4,
  "nbformat_minor": 0,
  "metadata": {
    "colab": {
      "provenance": []
    },
    "kernelspec": {
      "name": "python3",
      "display_name": "Python 3"
    },
    "language_info": {
      "name": "python"
    }
  },
  "cells": [
    {
      "cell_type": "markdown",
      "source": [
        "Q.1) What is the difference between a function and a method in python?\n",
        "     \n",
        "==)) Functions= A function canbe directly called by its name, while a method can't be called by its name. The method operates the data in the class, while a function is used to return or pass the data. **A function is a reusable block of code that performs a specific task; on the other hand methods are called using dot notation(e.g.,object.method()), and they are usually defined within a class.***"
      ],
      "metadata": {
        "id": "Dcvvd4QOujUe"
      }
    },
    {
      "cell_type": "code",
      "source": [
        "def add_numbers (a, b):         #--->(Functions EXAMPLE)\n",
        "    return a+b\n",
        "result= add_numbers(3,5)\n",
        "print(result)\n"
      ],
      "metadata": {
        "colab": {
          "base_uri": "https://localhost:8080/"
        },
        "id": "WcDpQ_mNvS4r",
        "outputId": "126e6d49-0826-4392-8671-3e2d44ee11c4"
      },
      "execution_count": 8,
      "outputs": [
        {
          "output_type": "stream",
          "name": "stdout",
          "text": [
            "8\n"
          ]
        }
      ]
    },
    {
      "cell_type": "code",
      "source": [
        "text= \"hello world\"             #--->(String method EXAMPLE)\n",
        "print(text.upper())\n",
        "print(text.capitalize())\n",
        "print(text.split())\n",
        "print(text.replace(\"world\",\"python\"))\n",
        ""
      ],
      "metadata": {
        "colab": {
          "base_uri": "https://localhost:8080/"
        },
        "id": "MtM34H0qvYbD",
        "outputId": "96186f60-e820-4215-bc15-7b718da1e806"
      },
      "execution_count": 7,
      "outputs": [
        {
          "output_type": "stream",
          "name": "stdout",
          "text": [
            "HELLO WORLD\n",
            "Hello world\n",
            "['hello', 'world']\n",
            "hello python\n"
          ]
        }
      ]
    },
    {
      "cell_type": "code",
      "source": [
        "info= {\"name\":\"radhika\",\"age\":20}\n",
        "print(info.get(\"name\"))\n",
        "print(info.keys())\n",
        "print(info.values())\n",
        "print(info.items())"
      ],
      "metadata": {
        "colab": {
          "base_uri": "https://localhost:8080/"
        },
        "id": "uJEyiWyYvpwn",
        "outputId": "bf282f33-55ee-469b-9954-64b2cac6319e"
      },
      "execution_count": 11,
      "outputs": [
        {
          "output_type": "stream",
          "name": "stdout",
          "text": [
            "radhika\n",
            "dict_keys(['name', 'age'])\n",
            "dict_values(['radhika', 20])\n",
            "dict_items([('name', 'radhika'), ('age', 20)])\n"
          ]
        }
      ]
    },
    {
      "cell_type": "markdown",
      "source": [
        "Q.2) Explain the concept of function arguments and parameters in Python.\n",
        "     \n",
        "==)) The terms parameter and argument canbe used for the same thing: information that are passed into a function. From a function's perspective- **A argument is the value that are sent to the function when it is called and, A parameter is the variable listed inside the parentheses in the function definition.***"
      ],
      "metadata": {
        "id": "mDgyS5wNv4X_"
      }
    },
    {
      "cell_type": "code",
      "source": [
        "def my_func(*args, **kwargs):\n",
        "    print(args)\n",
        "    print(kwargs)\n",
        "my_func('a','b','c',name=\"khushi\",age=20)"
      ],
      "metadata": {
        "colab": {
          "base_uri": "https://localhost:8080/"
        },
        "id": "tSn1Fqr9v5UX",
        "outputId": "b9e7e2c8-3922-46ac-d3b0-4395cbc0d85e"
      },
      "execution_count": 12,
      "outputs": [
        {
          "output_type": "stream",
          "name": "stdout",
          "text": [
            "('a', 'b', 'c')\n",
            "{'name': 'khushi', 'age': 20}\n"
          ]
        }
      ]
    },
    {
      "cell_type": "markdown",
      "source": [
        "Q.3) What are the different ways to define and call a function in Python?\n",
        "     \n",
        "==)) **Defining a function:- #def keyword: this signals that you are defining a new function. #colon: a colon marks the end of the function header and indicates that the function body will be indented. #return statement: you can use a return statement to specify the value that the function should send back when its called. **Calling a function:- #function name: write the name of the function you want to execute. #arguments: if the function expects arguments, you can pass them inside the parentheses.***"
      ],
      "metadata": {
        "id": "6GLj-szUwA0_"
      }
    },
    {
      "cell_type": "code",
      "source": [
        " def greet(name):\n",
        "     print(\"hello,\"+name+\"!\")\n",
        "greet(\"khushi\")"
      ],
      "metadata": {
        "colab": {
          "base_uri": "https://localhost:8080/"
        },
        "id": "mty9_4P9wBve",
        "outputId": "c89eb8c5-40ff-4b92-f84e-f4f5487ead70"
      },
      "execution_count": 13,
      "outputs": [
        {
          "output_type": "stream",
          "name": "stdout",
          "text": [
            "hello,khushi!\n"
          ]
        }
      ]
    },
    {
      "cell_type": "markdown",
      "source": [
        "Q.4) What is the purpose of the 'return' statement in a python function?\n",
        "     \n",
        "==)) The python return statement is a special statement that you can use inside a function or method to send the function's result back to the caller. A return statement consists of the return keyword followed by an optional return value"
      ],
      "metadata": {
        "id": "NoIPAGsnwEWm"
      }
    },
    {
      "cell_type": "code",
      "source": [
        "def add(a, b):\n",
        "    return a + b\n",
        "\n",
        "result = add(3, 5)\n",
        "print(result)  # Output: 8\n"
      ],
      "metadata": {
        "colab": {
          "base_uri": "https://localhost:8080/"
        },
        "id": "L1KwPm0FwdmD",
        "outputId": "a8bafbf8-fa4a-4033-efab-73ff2b06c2b6"
      },
      "execution_count": 16,
      "outputs": [
        {
          "output_type": "stream",
          "name": "stdout",
          "text": [
            "8\n"
          ]
        }
      ]
    },
    {
      "cell_type": "markdown",
      "source": [
        "Q.5) What are iterators in python and how do they differ from iterables?\n",
        "     \n",
        "==)) An iterator is an object that contains a countable number of values. **Differ from Iterables= An object to iterate over is Iterable. **relation: every iterator is iterable but not every iterable is an iterator. **method for iterating: In iterable, an object which would generate an iterator when passed to in-built method iter(). On the other hand, the next() is used for iterating. **List: A list is iterable and a list is not an iterator."
      ],
      "metadata": {
        "id": "pndsTmoGwe1E"
      }
    },
    {
      "cell_type": "code",
      "source": [
        "my_list = [1, 2, 3]\n",
        "for item in my_list:  # my_list is iterable\n",
        "    print(item)\n"
      ],
      "metadata": {
        "colab": {
          "base_uri": "https://localhost:8080/"
        },
        "id": "1L7jMk_bwwkt",
        "outputId": "95454078-5e4b-4dbb-af21-a2c154c509c7"
      },
      "execution_count": 18,
      "outputs": [
        {
          "output_type": "stream",
          "name": "stdout",
          "text": [
            "1\n",
            "2\n",
            "3\n"
          ]
        }
      ]
    },
    {
      "cell_type": "code",
      "source": [
        "my_list = [1, 2, 3]\n",
        "my_iter = iter(my_list)  # Now my_iter is an iterator\n",
        "\n",
        "print(next(my_iter))  # 1\n",
        "print(next(my_iter))  # 2\n",
        "print(next(my_iter))  # 3\n",
        "# next(my_iter) would now raise StopIteration\n"
      ],
      "metadata": {
        "colab": {
          "base_uri": "https://localhost:8080/"
        },
        "id": "nkp-teaiw3kt",
        "outputId": "efddc851-940f-4c06-8daa-b725a2d85aa1"
      },
      "execution_count": 19,
      "outputs": [
        {
          "output_type": "stream",
          "name": "stdout",
          "text": [
            "1\n",
            "2\n",
            "3\n"
          ]
        }
      ]
    },
    {
      "cell_type": "markdown",
      "source": [
        "Q.6) Explain the concepts of generators in python and how they are defined.\n",
        "     \n",
        "==)) Python generators are a special type of function that allow you to create iterators. Unlike regular functions, which return a value and then terminate, generators canbe paused and resumed, allowing them to generate a sequence of values over time.\n",
        "\n",
        "0\n",
        "1\n",
        "2\n",
        "3\n",
        "4"
      ],
      "metadata": {
        "id": "AMA7RPpSxBjT"
      }
    },
    {
      "cell_type": "markdown",
      "source": [
        "Q.7) What are the advantages of using generators over regular functions?\n",
        "     \n",
        "==)) There are following advantages of using generators over regular functions are:- **#Memory efficiency: regular functions create the entire sequence in memory before returning it, which canbe inefficient for large data sets or infinite sequences. **#Handling infinite sequences: generators are well-suited for handling infinite sequences of data, as they can yield values one at a time without needing to store the entire sequence in memory. **#Lazy evaluation: generators evaluate expressions and yield values only when requested, not all at once. **#Data pipelines & **#concise & readable code***"
      ],
      "metadata": {
        "id": "4I0q7DmAxEbr"
      }
    },
    {
      "cell_type": "code",
      "source": [
        "def simple_generator():\n",
        "     yield 1\n",
        "     yield 2\n",
        "     yield 3\n",
        "for value in simple_generator():\n",
        "    print(value)"
      ],
      "metadata": {
        "colab": {
          "base_uri": "https://localhost:8080/"
        },
        "id": "HJQNWCVexF9_",
        "outputId": "99ff1fd6-f687-42f5-f939-d45053976506"
      },
      "execution_count": 20,
      "outputs": [
        {
          "output_type": "stream",
          "name": "stdout",
          "text": [
            "1\n",
            "2\n",
            "3\n"
          ]
        }
      ]
    },
    {
      "cell_type": "markdown",
      "source": [
        "Q.8) What is a lambda function in python and when is it typically used?\n",
        "\n",
        "     \n",
        "==)) In python, a lambda function is a concise, anonymous function defined using the lambda keyword. It's typically used for small, one-time operations, often as arguments to higher-order functions like map, filter, and sort.\n",
        "\n",
        "When are they used?\n",
        "\n",
        "short, one-time tasks= they are perfect for simple, temporary operations that don't require a named function.\n",
        "with higher-order functions= lambda functions are frequently used as arguments to higher-order functions, which take other functions as input.\n",
        "data transformations= they are useful for performing simple data transformations, like applying a function to each element of a list."
      ],
      "metadata": {
        "id": "LTBNh12bxKNY"
      }
    },
    {
      "cell_type": "code",
      "source": [
        "square= lambda x: x**2\n",
        "numbers= [1,2,3,4]\n",
        "squared_numbers= list(map(square,numbers))\n",
        "print(squared_numbers)"
      ],
      "metadata": {
        "colab": {
          "base_uri": "https://localhost:8080/"
        },
        "id": "01KANX6pxOqi",
        "outputId": "c1f1960e-6d6d-4f76-8f1d-3d8fdbf18686"
      },
      "execution_count": 22,
      "outputs": [
        {
          "output_type": "stream",
          "name": "stdout",
          "text": [
            "[1, 4, 9, 16]\n"
          ]
        }
      ]
    },
    {
      "cell_type": "markdown",
      "source": [
        "Q.9) Explain the purpose and usage of the 'map()' function in Python.\n",
        "     \n",
        "==)) Purpose:- **#transformation: the core purpose of map() is to transform each element of an iterable by applying a given function to it. **#efficiency: map() canbe more performant than using a for loop, especially for large datasets, as it applies the function to each element individually. **#functional programming: it aligns with functional programming principles by applying a function to each item in a sequence. **#code clarity\n",
        "\n",
        "Usage:- **#applies the function: the function is applied to each element of the iterable. **#takes two arguments: a function and an iterable (like a list, tuple, or string). **#returns a map object: the map() function returns a map object, which is an iterator that generates the transformed elements. **#canbe converted to a list"
      ],
      "metadata": {
        "id": "L2rf5it3xTro"
      }
    },
    {
      "cell_type": "code",
      "source": [
        "def square(num):\n",
        "     return num**2\n",
        "numbers= [1,2,3,4,5]\n",
        "squared_numbers= list(map(square,numbers))\n",
        "print(squared_numbers)"
      ],
      "metadata": {
        "colab": {
          "base_uri": "https://localhost:8080/"
        },
        "id": "LwhwXt78xcmp",
        "outputId": "d3df990a-1f19-4ab6-a065-af90b710eac2"
      },
      "execution_count": 25,
      "outputs": [
        {
          "output_type": "stream",
          "name": "stdout",
          "text": [
            "[1, 4, 9, 16, 25]\n"
          ]
        }
      ]
    },
    {
      "cell_type": "markdown",
      "source": [
        "Q.10) What is the difference between 'map()','reduce()', and 'filter()' functions in python?\n",
        "     \n",
        "==)) Map function in python= The map() function returns a map object(which is an iterator) of the results after applying the given function to each item of a given iterable (list, tuple, etc). **Syntax: map(fun, iter) **Parameters: **fun*** - it is a function to which map passes each element of given iterable. **iter***- iterable object to be mapped."
      ],
      "metadata": {
        "id": "uhbTqXxTxfpR"
      }
    },
    {
      "cell_type": "markdown",
      "source": [
        "==)) Reduce function in python= The reduce function is used to apply a particular function passed in its argument to all of the list elements mentioned in the sequence passed along. This function is defined in \"functools\" module. **Syntax***: reduce(func, iterable[initial])"
      ],
      "metadata": {
        "id": "-HfcoNFQxzkf"
      }
    },
    {
      "cell_type": "code",
      "source": [
        "def is_even(n):\n",
        "     return n%2==0\n",
        "numbers= [1,2,3,4,5,6,7,8,9,10]\n",
        "even_numbers= list(filter(is_even,numbers))\n",
        "print(even_numbers)"
      ],
      "metadata": {
        "colab": {
          "base_uri": "https://localhost:8080/"
        },
        "id": "N-vcSagLyNZH",
        "outputId": "7d5a9662-ce98-4aa0-ea38-e043c6aaf696"
      },
      "execution_count": 35,
      "outputs": [
        {
          "output_type": "stream",
          "name": "stdout",
          "text": [
            "[2, 4, 6, 8, 10]\n"
          ]
        }
      ]
    },
    {
      "cell_type": "markdown",
      "source": [
        "![photo_2025-05-22_21-29-39.jpg](data:image/jpeg;base64,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)"
      ],
      "metadata": {
        "id": "N3RaTq6ayqDl"
      }
    },
    {
      "cell_type": "markdown",
      "source": [
        "Practical Questions"
      ],
      "metadata": {
        "id": "S27H3CLvyvlr"
      }
    },
    {
      "cell_type": "markdown",
      "source": [
        "Q.1) Write a python function that takes a list of numbers as input and returns\n",
        "the sum of all the even numbers in the list."
      ],
      "metadata": {
        "id": "H222Ap0Dy0kz"
      }
    },
    {
      "cell_type": "code",
      "source": [
        "my_list = [1, 2, 3, 4, 5, 6]\n",
        "result = sum_of_even_numbers(my_list)\n",
        "print(result)  # Output: 12 (2 + 4 + 6)\n"
      ],
      "metadata": {
        "colab": {
          "base_uri": "https://localhost:8080/"
        },
        "id": "ld4ztNsSzmkM",
        "outputId": "af6252b2-3fc5-4caa-8586-d3c3e7c6c66e"
      },
      "execution_count": 43,
      "outputs": [
        {
          "output_type": "stream",
          "name": "stdout",
          "text": [
            "12\n"
          ]
        }
      ]
    },
    {
      "cell_type": "markdown",
      "source": [
        "Q.2) Create a python function that accepts a string and returns the reverse of that string."
      ],
      "metadata": {
        "id": "4QaPjVxZzsa7"
      }
    },
    {
      "cell_type": "code",
      "source": [
        "text = \"hello\"\n",
        "reversed_text = reverse_string(text)\n",
        "print(reversed_text)  # Output: \"olleh\"\n"
      ],
      "metadata": {
        "colab": {
          "base_uri": "https://localhost:8080/"
        },
        "id": "gwtC3kIz0Xaj",
        "outputId": "c700ffe7-623e-4ffb-a687-c03b37628b18"
      },
      "execution_count": 48,
      "outputs": [
        {
          "output_type": "stream",
          "name": "stdout",
          "text": [
            "olleh\n"
          ]
        }
      ]
    },
    {
      "cell_type": "markdown",
      "source": [
        "Q.3) Implement a python function that takes a list of integers and returns a new list\n",
        "containing the squares of each number."
      ],
      "metadata": {
        "id": "_mRkM36o0Y2I"
      }
    },
    {
      "cell_type": "code",
      "source": [
        "def square_numbers(nums):\n",
        "    \"\"\"\n",
        "    This function takes a list of integers and returns a new list containing the squares of each number.\n",
        "    \"\"\"\n",
        "    return [num**2 for num in nums]\n",
        "\n",
        "nums= [1,2,3,4,5]\n",
        "result= square_numbers(nums)\n",
        "print(result)"
      ],
      "metadata": {
        "colab": {
          "base_uri": "https://localhost:8080/"
        },
        "id": "UrZp9rxt0ey6",
        "outputId": "2994ecb9-21c1-4aeb-866a-898a07da9e53"
      },
      "execution_count": 49,
      "outputs": [
        {
          "output_type": "stream",
          "name": "stdout",
          "text": [
            "[1, 4, 9, 16, 25]\n"
          ]
        }
      ]
    },
    {
      "cell_type": "markdown",
      "source": [
        "Q.4) Write a python function that checks if a given number is prime or not from 1 to 200."
      ],
      "metadata": {
        "id": "FM3wV8qt0izj"
      }
    },
    {
      "cell_type": "code",
      "source": [
        "def is_prime(num):\n",
        "    \"\"\"\n",
        "    This function checks if a given number is prime or not.\n",
        "    \"\"\"\n",
        "    if num <= 1:\n",
        "        return False\n",
        "    for i in range(2, int(num**0.5) + 1):\n",
        "        if num % i == 0:\n",
        "            return False\n",
        "    return True\n",
        "\n",
        "for num in range(1,201):\n",
        "    if is_prime(num):\n",
        "        print(num)"
      ],
      "metadata": {
        "colab": {
          "base_uri": "https://localhost:8080/"
        },
        "id": "4vHYZiSQ0k57",
        "outputId": "24b0f95a-9706-4cb3-d7d9-081971ee9320"
      },
      "execution_count": 50,
      "outputs": [
        {
          "output_type": "stream",
          "name": "stdout",
          "text": [
            "2\n",
            "3\n",
            "5\n",
            "7\n",
            "11\n",
            "13\n",
            "17\n",
            "19\n",
            "23\n",
            "29\n",
            "31\n",
            "37\n",
            "41\n",
            "43\n",
            "47\n",
            "53\n",
            "59\n",
            "61\n",
            "67\n",
            "71\n",
            "73\n",
            "79\n",
            "83\n",
            "89\n",
            "97\n",
            "101\n",
            "103\n",
            "107\n",
            "109\n",
            "113\n",
            "127\n",
            "131\n",
            "137\n",
            "139\n",
            "149\n",
            "151\n",
            "157\n",
            "163\n",
            "167\n",
            "173\n",
            "179\n",
            "181\n",
            "191\n",
            "193\n",
            "197\n",
            "199\n"
          ]
        }
      ]
    },
    {
      "cell_type": "markdown",
      "source": [
        "Q.5) Create an iterator class in python that generates the Fibonacci sequence up to a given specified number of terms."
      ],
      "metadata": {
        "id": "PGJ6-Xm50oFL"
      }
    },
    {
      "cell_type": "code",
      "source": [
        "class FibonacciIterator:\n",
        "    def __init__(self, max_terms):\n",
        "        self.max_terms= max_terms\n",
        "        self.count= 0\n",
        "        self.a= 0\n",
        "        self.b= 1\n",
        "\n",
        "    def __iter__(self):\n",
        "        return self\n",
        "\n",
        "    def __next__(self): # Changed _next_ to __next__\n",
        "        if self.count >= self.max_terms:\n",
        "            raise StopIteration\n",
        "        if self.count == 0:\n",
        "            self.count += 1\n",
        "            return self.a\n",
        "        elif self.count == 1:\n",
        "            self.count += 1\n",
        "            return self.b\n",
        "        else:\n",
        "            self.a, self.b= self.b, self.a + self.b\n",
        "            self.count += 1\n",
        "            return self.b\n",
        "\n",
        "#Example usage\n",
        "fib= FibonacciIterator(10)\n",
        "for num in fib:\n",
        "    print(num)"
      ],
      "metadata": {
        "colab": {
          "base_uri": "https://localhost:8080/"
        },
        "id": "OH3xHuH40qcx",
        "outputId": "3ea4ce4e-79d5-4ca8-843c-67a7c2cf4daf"
      },
      "execution_count": 51,
      "outputs": [
        {
          "output_type": "stream",
          "name": "stdout",
          "text": [
            "0\n",
            "1\n",
            "1\n",
            "2\n",
            "3\n",
            "5\n",
            "8\n",
            "13\n",
            "21\n",
            "34\n"
          ]
        }
      ]
    },
    {
      "cell_type": "markdown",
      "source": [
        "Q.6) Write a generator function in python that yields the powers of 2 upto a given exponent."
      ],
      "metadata": {
        "id": "m5Q2kRod0vyq"
      }
    },
    {
      "cell_type": "code",
      "source": [
        "def power_of_two_generator(exponent):\n",
        "    for i in range(exponent + 1):\n",
        "        yield 2 ** i\n",
        "exponent= 5\n",
        "power_generator= power_of_two_generator(exponent)\n",
        "for power in power_generator:\n",
        "    print(power)"
      ],
      "metadata": {
        "colab": {
          "base_uri": "https://localhost:8080/"
        },
        "id": "oue7-Z4O0xkj",
        "outputId": "2d518e7d-0b2e-4739-96b3-69959dc19993"
      },
      "execution_count": 52,
      "outputs": [
        {
          "output_type": "stream",
          "name": "stdout",
          "text": [
            "1\n",
            "2\n",
            "4\n",
            "8\n",
            "16\n",
            "32\n"
          ]
        }
      ]
    },
    {
      "cell_type": "markdown",
      "source": [
        "Q.7) Implement a generator function that reads a file line by line and yield each line as a string."
      ],
      "metadata": {
        "id": "P78L86Wv0z3T"
      }
    },
    {
      "cell_type": "code",
      "source": [
        "def read_file_line_by_line(filename):\n",
        "    \"\"\"\n",
        "    A generator function that reads a file line by line and yields each line as a string.\n",
        "\n",
        "    Args:\n",
        "    filename (str): The path to the file to read.\n",
        "\n",
        "    Yields:\n",
        "    str: Each line of the file as a string.\n",
        "    \"\"\"\n",
        "    try:\n",
        "        with open(filename, 'r') as file:  # Open the file in read mode\n",
        "            for line in file:\n",
        "                yield line.strip()  # Yield each line after removing leading/trailing whitespace\n",
        "    except FileNotFoundError:\n",
        "        print(f\"File '{filename}' not found.\")\n",
        "\n",
        "#Example usage\n",
        "for line in read_file_line_by_line(\"example.txt\"):\n",
        "    print(line)"
      ],
      "metadata": {
        "colab": {
          "base_uri": "https://localhost:8080/"
        },
        "id": "eIsbvXVB03Wc",
        "outputId": "f42ba4fd-6edc-4cb8-b2ab-c3e317c9616f"
      },
      "execution_count": 53,
      "outputs": [
        {
          "output_type": "stream",
          "name": "stdout",
          "text": [
            "File 'example.txt' not found.\n"
          ]
        }
      ]
    },
    {
      "cell_type": "markdown",
      "source": [
        "Q.8) Use a lambda function in python to sort a list of tuples based on the second element of each tuple."
      ],
      "metadata": {
        "id": "LAgvd7QE094e"
      }
    },
    {
      "cell_type": "code",
      "source": [
        "data= [(2,2),(1,0),(4,1),(5,3)]\n",
        "sorted_data= sorted(data, key= lambda x: x[1])\n",
        "print(sorted_data)"
      ],
      "metadata": {
        "colab": {
          "base_uri": "https://localhost:8080/"
        },
        "id": "8QjVS8I-1Bg8",
        "outputId": "d1ca147a-f2b8-4481-f732-bfc25940da45"
      },
      "execution_count": 54,
      "outputs": [
        {
          "output_type": "stream",
          "name": "stdout",
          "text": [
            "[(1, 0), (4, 1), (2, 2), (5, 3)]\n"
          ]
        }
      ]
    },
    {
      "cell_type": "markdown",
      "source": [
        "Q.9) Write a python program that uses 'map()' to convert a list of temperatures from Celsius to Fahrenheit."
      ],
      "metadata": {
        "id": "HsygAdLB1Ebe"
      }
    },
    {
      "cell_type": "code",
      "source": [
        "def celsius_to_fahrenheit(celsius):\n",
        "    return (celsius * 9/5) + 32\n",
        "celsius_temperatures= [0,25,37,100]\n",
        "fahrenheit_temperatures= list(map(celsius_to_fahrenheit, celsius_temperatures))\n",
        "print(fahrenheit_temperatures)\n",
        ""
      ],
      "metadata": {
        "colab": {
          "base_uri": "https://localhost:8080/"
        },
        "id": "RDBPGbRp1HCO",
        "outputId": "6e21730e-2549-4fe4-81be-73b716649e53"
      },
      "execution_count": 55,
      "outputs": [
        {
          "output_type": "stream",
          "name": "stdout",
          "text": [
            "[32.0, 77.0, 98.6, 212.0]\n"
          ]
        }
      ]
    },
    {
      "cell_type": "markdown",
      "source": [
        "Q.10) Create a python program that uses 'filter()' to remove all the vowels from a given string."
      ],
      "metadata": {
        "id": "SBVKpOqK1Jc_"
      }
    },
    {
      "cell_type": "code",
      "source": [
        "input_string= \"Hello, World!\"\n",
        "vowels= \"aeiouAEIOU\"\n",
        "filtered_string= \"\".join(filter(lambda x: x not in vowels, input_string))\n",
        "print(filtered_string)\n",
        ""
      ],
      "metadata": {
        "colab": {
          "base_uri": "https://localhost:8080/"
        },
        "id": "cuoor-qK1MYY",
        "outputId": "cc2b40ef-daca-4d98-d3b5-8cd8ec5f3c09"
      },
      "execution_count": 56,
      "outputs": [
        {
          "output_type": "stream",
          "name": "stdout",
          "text": [
            "Hll, Wrld!\n"
          ]
        }
      ]
    },
    {
      "cell_type": "markdown",
      "source": [
        "Q.11) Imagine an accounting routine used in a book shop. It works on a list with sublists,\n",
        "      which look like this:\n",
        "      Order Number\n",
        "      Book Title and Author\n",
        "      Quantity\n",
        "      Price Per Item\n",
        "      34587\n",
        "      98762\n",
        "      77226\n",
        "      88112\n",
        "      Learning Python, Mark Lutz\n",
        "      Programming Python, Mark Lutz\n",
        "      Head First Python, Paul Barry.\n",
        "      Einfuhrung in Python3, Bernd Klein\n",
        "      4\n",
        "      40.95\n",
        "      5\n",
        "      56.80\n",
        "      3\n",
        "      32.95\n",
        "      3\n",
        "      24.99\n",
        "      Write a Python program, using lambda and map, which returns a list with 2-\n",
        "      tuples. Each tuple consists of the order number and the product of the\n",
        "      price per items and the quantity.\n",
        "      This product should be increased by 10.00$if the value of the order is\n",
        "      smaller than\n",
        "      100,00$.\n",
        "     "
      ],
      "metadata": {
        "id": "m7rDjNjG1PaF"
      }
    },
    {
      "cell_type": "code",
      "source": [
        "Orders= [\n",
        "    [34587, \"Learning Python, Mark Lutz\", 4, 40.95],\n",
        "    [98762, \"Programming Python, Mark Lutz\", 5, 56.80],\n",
        "    [77226, \"Head First Python, Paul Barry\", 3, 32.95],\n",
        "    [88112, \"Einfuhrung in Python3, Bernd Klein\", 3, 24.99]\n",
        "]\n",
        "result= list(map(lambda x: (x[0], x[2] * x[3]) if x[2] * x[3] >= 100 else (x[0], x[2] * x[3] + 10), Orders))\n",
        "print(result)"
      ],
      "metadata": {
        "colab": {
          "base_uri": "https://localhost:8080/"
        },
        "id": "2kRagnPv1S95",
        "outputId": "2c21a856-77a3-407f-d073-f6b9a1f37f16"
      },
      "execution_count": 57,
      "outputs": [
        {
          "output_type": "stream",
          "name": "stdout",
          "text": [
            "[(34587, 163.8), (98762, 284.0), (77226, 108.85000000000001), (88112, 84.97)]\n"
          ]
        }
      ]
    }
  ]
}